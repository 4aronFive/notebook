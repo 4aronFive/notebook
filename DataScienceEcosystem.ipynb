{
 "cells": [
  {
   "cell_type": "markdown",
   "id": "63eeac12-9021-47d5-8fc3-2e5c334d9915",
   "metadata": {},
   "source": [
    "# Data Science Tools and Ecosyste"
   ]
  },
  {
   "cell_type": "markdown",
   "id": "8d9c539b-47b4-4c7c-83d6-e00acc25cf0a",
   "metadata": {
    "tags": []
   },
   "source": [
    "### In this notebook, Data Science Tools and Ecosystem are summarized."
   ]
  },
  {
   "cell_type": "markdown",
   "id": "3f0340fd-f72e-4b4e-8511-f2b3d7c2bb35",
   "metadata": {},
   "source": [
    "##### Some of the popular languages that Data Scientists use are:\n",
    "1. Python\n",
    "2. SQL\n",
    "3. R\n",
    "4. Julia"
   ]
  },
  {
   "cell_type": "markdown",
   "id": "b2e86b78-7f43-4d5e-a95c-d3991a10240b",
   "metadata": {},
   "source": [
    "##### Some of the commonly used libraries used by Data Scientists include:\n",
    "1. ggplot\n",
    "2. panda\n",
    "3. numpy"
   ]
  },
  {
   "cell_type": "markdown",
   "id": "0199abee-1210-4651-8eb7-37757a9f7c84",
   "metadata": {
    "tags": []
   },
   "source": [
    "# \n",
    " | Data Science Tools |\n",
    " |--------------------|\n",
    " | Jupyter |\n",
    " | R |\n",
    " | Visual Studio |"
   ]
  },
  {
   "cell_type": "markdown",
   "id": "b6f35534-2154-4466-aa6f-de5a87288fff",
   "metadata": {},
   "source": [
    "### Below are a few examples of evaluating arithmetic expressions in Python"
   ]
  },
  {
   "cell_type": "code",
   "execution_count": 12,
   "id": "759976b4-c4b7-4da0-8492-8929f25805d0",
   "metadata": {
    "tags": []
   },
   "outputs": [
    {
     "data": {
      "text/plain": [
       "17"
      ]
     },
     "execution_count": 12,
     "metadata": {},
     "output_type": "execute_result"
    }
   ],
   "source": [
    "(3*4)+5 #This a simple arithmetic expression to mutiply then add integers"
   ]
  },
  {
   "cell_type": "markdown",
   "id": "34e5fda8-3f70-49cd-a9f1-683f78fe65de",
   "metadata": {
    "tags": []
   },
   "source": [
    "#### This a simple arithmetic expression to mutiply then add integers"
   ]
  },
  {
   "cell_type": "code",
   "execution_count": 14,
   "id": "e35ade4c-cb17-4b63-b0df-5e7bc5937941",
   "metadata": {
    "tags": []
   },
   "outputs": [
    {
     "data": {
      "text/plain": [
       "3.3333333333333335"
      ]
     },
     "execution_count": 14,
     "metadata": {},
     "output_type": "execute_result"
    }
   ],
   "source": [
    "200/60 #This will convert 200 minutes to hours by diving by 60"
   ]
  },
  {
   "cell_type": "markdown",
   "id": "45457851-e1b4-494a-b74e-7fcf5d1a19ea",
   "metadata": {},
   "source": [
    "##### objectives that this notebook covered \n",
    "* Markdowns\n",
    "* Code\n",
    "* Arithmetic in jupyter"
   ]
  },
  {
   "cell_type": "markdown",
   "id": "cf27bb3f-b908-4751-b690-c28ceb99e671",
   "metadata": {
    "tags": []
   },
   "source": [
    "## Author Aaron Bustos"
   ]
  },
  {
   "cell_type": "code",
   "execution_count": null,
   "id": "3a523296-d150-4503-a6f5-17b1d8ceee0b",
   "metadata": {},
   "outputs": [],
   "source": []
  }
 ],
 "metadata": {
  "kernelspec": {
   "display_name": "Python",
   "language": "python",
   "name": "conda-env-python-py"
  },
  "language_info": {
   "codemirror_mode": {
    "name": "ipython",
    "version": 3
   },
   "file_extension": ".py",
   "mimetype": "text/x-python",
   "name": "python",
   "nbconvert_exporter": "python",
   "pygments_lexer": "ipython3",
   "version": "3.7.12"
  }
 },
 "nbformat": 4,
 "nbformat_minor": 5
}
